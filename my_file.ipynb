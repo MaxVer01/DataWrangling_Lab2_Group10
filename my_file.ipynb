{
  "nbformat": 4,
  "nbformat_minor": 0,
  "metadata": {
    "colab": {
      "provenance": []
    },
    "kernelspec": {
      "name": "python3",
      "display_name": "Python 3"
    },
    "language_info": {
      "name": "python"
    }
  },
  "cells": [
    {
      "cell_type": "markdown",
      "source": [
        "## Task 3: Data extraction and entity resolution using Python"
      ],
      "metadata": {
        "id": "pZuuHS793OkB"
      }
    },
    {
      "cell_type": "code",
      "source": [
        "import pandas as pd\n",
        "import sqlite3\n",
        "from sqlite3 import Error\n",
        "\n",
        "db = '/content/Assignment_1_ADS.db'"
      ],
      "metadata": {
        "id": "N6ogyuVB4Cvc"
      },
      "execution_count": 8,
      "outputs": []
    },
    {
      "cell_type": "code",
      "source": [
        "def create_connection(db_file):\n",
        "    conn = None\n",
        "    try:\n",
        "        conn = sqlite3.connect(db_file)\n",
        "    except Error as e:\n",
        "        print(e)\n",
        "\n",
        "    return conn\n",
        "\n",
        "def run_query(conn, query):\n",
        "    # Create a cursor\n",
        "    cur = conn.cursor()\n",
        "    # Send the query to the database\n",
        "    cur.execute(query)\n",
        "    # Extract the results of the query\n",
        "    results = cur.fetchall()\n",
        "    # Return the results\n",
        "    return results\n",
        "\n",
        "def convert_db_table_to_DF(conn, table):\n",
        "    # get the names of the attributes in the database table\n",
        "    header_query = \"SELECT name FROM pragma_table_info('\" + table + \"') ORDER BY cid;\"\n",
        "#     print (header_query)\n",
        "    cols_init = run_query(conn, header_query)\n",
        "    cols = [cols_init[i][0] for i in range(len(cols_init))]\n",
        "#     print(cols)\n",
        "    # get the records of the table\n",
        "    content_query = \"Select * from \" + table\n",
        "    data = run_query(conn, content_query)\n",
        "    df = pd.DataFrame(data, columns = cols)\n",
        "    return df"
      ],
      "metadata": {
        "id": "DTdnWBqB4HeS"
      },
      "execution_count": 9,
      "outputs": []
    },
    {
      "cell_type": "markdown",
      "source": [
        "#Question B"
      ],
      "metadata": {
        "id": "PSsz93JdY_M8"
      }
    },
    {
      "cell_type": "code",
      "execution_count": 10,
      "metadata": {
        "colab": {
          "base_uri": "https://localhost:8080/"
        },
        "id": "82FH3XQD3GwB",
        "outputId": "538cd41d-d1ae-482c-9d57-efc3bab83c3d"
      },
      "outputs": [
        {
          "output_type": "stream",
          "name": "stdout",
          "text": [
            "[('C001', 'John', 'Doe', '1985-03-15', 'john.doe@email.com', '+12345678901', 'Maple Street', '123', 'New York', 'USA', '10001'), ('C002', 'Jane', 'Smith', '1990-07-22', 'jane.smith@email.com', '+12345678902', 'Oak Avenue', '456', 'Los Angeles', 'USA', '90001'), ('C003', 'Michael', 'Johnson', '1978-11-09', 'michael.johnson@email.com', '+12345678903', 'Pine Road', '789', 'Chicago', 'USA', '60601'), ('C004', 'Emily', 'Williams', '1995-02-28', 'emily.williams@email.com', '+12345678904', 'Elm Street', '101', 'Houston', 'USA', '77001'), ('C005', 'David', 'Brown', '1982-08-17', 'david.brown@email.com', '+12345678905', 'Birch Lane', '202', 'Phoenix', 'USA', '85001'), ('C006', 'Sarah', 'Jones', '1998-12-05', 'sarah.jones@email.com', '+12345678906', 'Cedar Court', '303', 'Philadelphia', 'USA', '19101'), ('C007', 'Chris', 'Miller', '1972-04-14', 'chris.miller@email.com', '+12345678907', 'Maple Street', '404', 'San Antonio', 'USA', '78201'), ('C008', 'Jessica', 'Garcia', '1989-09-10', 'jessica.garcia@email.com', '+12345678908', 'Oak Avenue', '505', 'San Diego', 'USA', '92101'), ('C009', 'Daniel', 'Martinez', '1981-06-25', 'daniel.martinez@email.com', '+12345678909', 'Pine Road', '606', 'Dallas', 'USA', '75201'), ('C010', 'Ashley', 'Rodriguez', '1994-01-18', 'ashley.rodriguez@email.com', '+12345678910', 'Elm Street', '707', 'San Jose', 'USA', '95101'), ('C011', 'Robert', 'Hernandez', '1986-05-20', 'robert.hernandez@email.com', '+12345678911', 'Birch Lane', '808', 'Austin', 'USA', '73301'), ('C012', 'Sophia', 'Lopez', '1993-10-30', 'sophia.lopez@email.com', '+12345678912', 'Cedar Court', '909', 'Fort Worth', 'USA', '76101'), ('C013', 'James', 'Gonzalez', '1979-12-11', 'james.gonzalez@email.com', '+12345678913', 'Maple Street', '111', 'Jacksonville', 'USA', '32201'), ('C014', 'Olivia', 'Perez', '1992-03-06', 'olivia.perez@email.com', '+12345678914', 'Oak Avenue', '222', 'Columbus', 'USA', '43004'), ('C015', 'Matthew', 'Davis', '1983-07-24', 'matthew.davis@email.com', '+12345678915', 'Pine Road', '333', 'Charlotte', 'USA', '28201'), ('C016', 'John', 'Doe', '1985-03-15', 'john.doe@email.com', '+12345678901', 'Maple Street', '124', 'New York', 'USA', '10001')]\n",
            "   customer_id first_name  last_name date_of_birth  \\\n",
            "0         C001       John        Doe    1985-03-15   \n",
            "1         C002       Jane      Smith    1990-07-22   \n",
            "2         C003    Michael    Johnson    1978-11-09   \n",
            "3         C004      Emily   Williams    1995-02-28   \n",
            "4         C005      David      Brown    1982-08-17   \n",
            "5         C006      Sarah      Jones    1998-12-05   \n",
            "6         C007      Chris     Miller    1972-04-14   \n",
            "7         C008    Jessica     Garcia    1989-09-10   \n",
            "8         C009     Daniel   Martinez    1981-06-25   \n",
            "9         C010     Ashley  Rodriguez    1994-01-18   \n",
            "10        C011     Robert  Hernandez    1986-05-20   \n",
            "11        C012     Sophia      Lopez    1993-10-30   \n",
            "12        C013      James   Gonzalez    1979-12-11   \n",
            "13        C014     Olivia      Perez    1992-03-06   \n",
            "14        C015    Matthew      Davis    1983-07-24   \n",
            "15        C016       John        Doe    1985-03-15   \n",
            "\n",
            "                         email  phone_number        street house_number  \\\n",
            "0           john.doe@email.com  +12345678901  Maple Street          123   \n",
            "1         jane.smith@email.com  +12345678902    Oak Avenue          456   \n",
            "2    michael.johnson@email.com  +12345678903     Pine Road          789   \n",
            "3     emily.williams@email.com  +12345678904    Elm Street          101   \n",
            "4        david.brown@email.com  +12345678905    Birch Lane          202   \n",
            "5        sarah.jones@email.com  +12345678906   Cedar Court          303   \n",
            "6       chris.miller@email.com  +12345678907  Maple Street          404   \n",
            "7     jessica.garcia@email.com  +12345678908    Oak Avenue          505   \n",
            "8    daniel.martinez@email.com  +12345678909     Pine Road          606   \n",
            "9   ashley.rodriguez@email.com  +12345678910    Elm Street          707   \n",
            "10  robert.hernandez@email.com  +12345678911    Birch Lane          808   \n",
            "11      sophia.lopez@email.com  +12345678912   Cedar Court          909   \n",
            "12    james.gonzalez@email.com  +12345678913  Maple Street          111   \n",
            "13      olivia.perez@email.com  +12345678914    Oak Avenue          222   \n",
            "14     matthew.davis@email.com  +12345678915     Pine Road          333   \n",
            "15          john.doe@email.com  +12345678901  Maple Street          124   \n",
            "\n",
            "            city country zipcode  \n",
            "0       New York     USA   10001  \n",
            "1    Los Angeles     USA   90001  \n",
            "2        Chicago     USA   60601  \n",
            "3        Houston     USA   77001  \n",
            "4        Phoenix     USA   85001  \n",
            "5   Philadelphia     USA   19101  \n",
            "6    San Antonio     USA   78201  \n",
            "7      San Diego     USA   92101  \n",
            "8         Dallas     USA   75201  \n",
            "9       San Jose     USA   95101  \n",
            "10        Austin     USA   73301  \n",
            "11    Fort Worth     USA   76101  \n",
            "12  Jacksonville     USA   32201  \n",
            "13      Columbus     USA   43004  \n",
            "14     Charlotte     USA   28201  \n",
            "15      New York     USA   10001  \n"
          ]
        }
      ],
      "source": [
        "#todo read customer relation table into panadas df\n",
        "\n",
        "#connecting to database\n",
        "sql_db = create_connection(db)\n",
        "\n",
        "#running queries\n",
        "print(run_query(sql_db, 'select * from customer'))\n",
        "\n",
        "#converting db table into pandas dataframe\n",
        "df_customer = convert_db_table_to_DF(sql_db, 'customer')\n",
        "print(df_customer)\n"
      ]
    },
    {
      "cell_type": "markdown",
      "source": [
        "#Question C\n",
        "\n",
        "Using a similarity function that compares two records (similar to the one in the tutorial), report the customers with similarity > 0.7."
      ],
      "metadata": {
        "id": "Ob0VAXAuZEEh"
      }
    },
    {
      "cell_type": "markdown",
      "source": [
        "#Jaccard Similarity\n"
      ],
      "metadata": {
        "id": "h54CAM1-ZRsS"
      }
    },
    {
      "cell_type": "code",
      "source": [
        "# Jaccard similarity function\n",
        "def jaccard_similarity(set1, set2):\n",
        "    intersection_size = len(set1.intersection(set2))\n",
        "    union_size = len(set1.union(set2))\n",
        "    return intersection_size / union_size if union_size != 0 else 0.0\n",
        "#printing customer names from records with Jaccard similarity greater than specified value\n",
        "similarity_value = 0.7\n",
        "print('Customers with jaccard similarity greater than ' + str(similarity_value) + ':\\n')\n",
        "for i in range(len(df_customer)):\n",
        "  record1 = df_customer.iloc[i]\n",
        "  for j in range(i+1, len(df_customer)):\n",
        "    record2 = df_customer.iloc[j]\n",
        "    if jaccard_similarity(set(record1), set(record2)) > similarity_value:\n",
        "      print(record1.first_name + ' and ' + record2.first_name)\n",
        "\n",
        "similarity_found = False\n",
        "# If no similarity was found, print the message\n",
        "if not similarity_found:\n",
        "    print(f'No customers with Jaccard similarity greater than {similarity_value} were found.')"
      ],
      "metadata": {
        "id": "X1VYcylRFsGx",
        "outputId": "98fd5f9e-a580-4115-d29b-e7e54a34b799",
        "colab": {
          "base_uri": "https://localhost:8080/"
        }
      },
      "execution_count": 11,
      "outputs": [
        {
          "output_type": "stream",
          "name": "stdout",
          "text": [
            "Customers with jaccard similarity greater than 0.7:\n",
            "\n",
            "No customers with Jaccard similarity greater than 0.7 were found.\n"
          ]
        }
      ]
    },
    {
      "cell_type": "markdown",
      "source": [
        "#Tversky Index"
      ],
      "metadata": {
        "id": "JT0XyAPtZYNW"
      }
    },
    {
      "cell_type": "code",
      "source": [
        "#Tversky Index\n",
        "def Tversky_Coefficient(set1, set2):\n",
        "    intersection_size = len(set1.intersection(set2))\n",
        "    S1_diff_S2 = len(set1.difference(set2))\n",
        "    S2_diff_S1 = len(set2.difference(set1))\n",
        "    alpha = 0.2\n",
        "    beta = 0.8\n",
        "    denominator = intersection_size + (alpha * S1_diff_S2) + (beta * S2_diff_S1)\n",
        "    return intersection_size / denominator if denominator != 0 else 0.0\n",
        "\n",
        "# convert every row to a list and store it to a list\n",
        "rows = df_customer.values.tolist()\n",
        "\n",
        "num_rows = len(rows)\n",
        "\n",
        "# compare each row with each other\n",
        "for i in range(num_rows):\n",
        "    for j in range(i+1, num_rows):\n",
        "        #print(i, j)\n",
        "        set1 = set(rows[i])\n",
        "        set2 = set(rows[j])\n",
        "        similarity = Tversky_Coefficient(set1, set2)\n",
        "\n",
        "        if similarity > 0.7:\n",
        "            print(f\"Tversky_Coefficient similarity between row {i} and row {j} = \", round(similarity, 3))"
      ],
      "metadata": {
        "colab": {
          "base_uri": "https://localhost:8080/"
        },
        "id": "Ww1GZOOXX6pm",
        "outputId": "db9bf69b-2ea5-486d-f9e7-d62e1b06dae1"
      },
      "execution_count": 12,
      "outputs": [
        {
          "output_type": "stream",
          "name": "stdout",
          "text": [
            "Tversky_Coefficient similarity between row 0 and row 15 =  0.818\n"
          ]
        }
      ]
    }
  ]
}